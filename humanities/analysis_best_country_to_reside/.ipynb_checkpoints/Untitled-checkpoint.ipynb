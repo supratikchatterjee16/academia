{
 "cells": [
  {
   "cell_type": "markdown",
   "id": "af80d5e1-94f8-4ce0-8857-b7f51a127738",
   "metadata": {},
   "source": [
    "# Best countries to live in\n",
    "\n",
    "The aim is to find the best country to live in, basd on certain metrics.\n",
    "\n",
    "Metrics being considered : \n",
    "\n",
    "1. Human Development Index(An aggregate metric used for identifying the development of countries for humans)\n",
    "2. Population density\n",
    "3. \n",
    "\n",
    "## Data sources\n",
    "\n",
    "1. World Population Review(data at 27/05/2022 20:30 IST approx)\n"
   ]
  },
  {
   "cell_type": "code",
   "execution_count": 4,
   "id": "251fcaeb-0edf-4e48-aea9-72eafb922d77",
   "metadata": {},
   "outputs": [
    {
     "name": "stdout",
     "output_type": "stream",
     "text": [
      "Index(['country', 'hdi', 'pop2022'], dtype='object') \n",
      " (186, 3) \n",
      "Index(['cca2', 'name', 'pop2022', 'pop2020', 'pop2050', 'pop2030', 'pop2015',\n",
      "       'pop2010', 'pop2000', 'pop1990', 'pop1980', 'pop1970', 'area',\n",
      "       'Density', 'GrowthRate', 'WorldPercentage', 'rank'],\n",
      "      dtype='object') \n",
      " (232, 17)\n"
     ]
    }
   ],
   "source": [
    "import pandas\n",
    "hdi = pandas.read_csv('data/hdi_worldpopulationreview.csv')\n",
    "population = pandas.read_csv('data/population_worldpopulationreview.csv')\n",
    "\n",
    "print(hdi.columns, '\\n', hdi.shape, '\\n'+ str(population.columns), '\\n', population.shape)"
   ]
  },
  {
   "cell_type": "code",
   "execution_count": 12,
   "id": "a1c578db-c81b-40fe-b049-385778a2612c",
   "metadata": {},
   "outputs": [
    {
     "ename": "AttributeError",
     "evalue": "'FacetGrid' object has no attribute 'xticks'",
     "output_type": "error",
     "traceback": [
      "\u001b[0;31m---------------------------------------------------------------------------\u001b[0m",
      "\u001b[0;31mAttributeError\u001b[0m                            Traceback (most recent call last)",
      "\u001b[0;32m/tmp/ipykernel_40198/701972757.py\u001b[0m in \u001b[0;36m<module>\u001b[0;34m\u001b[0m\n\u001b[1;32m      4\u001b[0m \u001b[0;31m# plt.xticks(rotation = 'vertical')\u001b[0m\u001b[0;34m\u001b[0m\u001b[0;34m\u001b[0m\u001b[0m\n\u001b[1;32m      5\u001b[0m \u001b[0mg\u001b[0m \u001b[0;34m=\u001b[0m \u001b[0msns\u001b[0m\u001b[0;34m.\u001b[0m\u001b[0mrelplot\u001b[0m\u001b[0;34m(\u001b[0m\u001b[0mdata\u001b[0m\u001b[0;34m=\u001b[0m\u001b[0mhdi\u001b[0m\u001b[0;34m,\u001b[0m \u001b[0mx\u001b[0m\u001b[0;34m=\u001b[0m\u001b[0;34m\"country\"\u001b[0m\u001b[0;34m,\u001b[0m \u001b[0my\u001b[0m\u001b[0;34m=\u001b[0m\u001b[0;34m\"hdi\"\u001b[0m\u001b[0;34m,\u001b[0m \u001b[0mkind\u001b[0m\u001b[0;34m=\u001b[0m\u001b[0;34m\"line\"\u001b[0m\u001b[0;34m)\u001b[0m\u001b[0;34m\u001b[0m\u001b[0;34m\u001b[0m\u001b[0m\n\u001b[0;32m----> 6\u001b[0;31m \u001b[0mlocs\u001b[0m\u001b[0;34m,\u001b[0m \u001b[0mlabels\u001b[0m \u001b[0;34m=\u001b[0m \u001b[0mg\u001b[0m\u001b[0;34m.\u001b[0m\u001b[0mxticks\u001b[0m\u001b[0;34m(\u001b[0m\u001b[0;34m)\u001b[0m\u001b[0;34m\u001b[0m\u001b[0;34m\u001b[0m\u001b[0m\n\u001b[0m\u001b[1;32m      7\u001b[0m \u001b[0mplt\u001b[0m\u001b[0;34m.\u001b[0m\u001b[0msetp\u001b[0m\u001b[0;34m(\u001b[0m\u001b[0mlabels\u001b[0m\u001b[0;34m,\u001b[0m \u001b[0mrotation\u001b[0m\u001b[0;34m=\u001b[0m\u001b[0;36m45\u001b[0m\u001b[0;34m)\u001b[0m\u001b[0;34m\u001b[0m\u001b[0;34m\u001b[0m\u001b[0m\n\u001b[1;32m      8\u001b[0m \u001b[0;34m\u001b[0m\u001b[0m\n",
      "\u001b[0;31mAttributeError\u001b[0m: 'FacetGrid' object has no attribute 'xticks'"
     ]
    },
    {
     "data": {
      "image/png": "[encoded data removed]",
      "text/plain": [
       "<Figure size 360x360 with 1 Axes>"
      ]
     },
     "metadata": {
      "needs_background": "light"
     },
     "output_type": "display_data"
    }
   ],
   "source": [
    "import seaborn as sns\n",
    "\n",
    "import matplotlib.pyplot as plt\n",
    "# plt.xticks(rotation = 'vertical')\n",
    "g = sns.relplot(data=hdi, x=\"country\", y=\"hdi\", kind=\"line\")\n",
    "# locs, labels = g.xticks()\n",
    "# plt.setp(labels, rotation=45)\n",
    "\n",
    "# sns.relplot(data=flights_dict, x=\"year\", y=\"passengers\", hue=\"month\", kind=\"line\")\n",
    "# sns.barplot(hdi[['hdi', 'country']], )"
   ]
  },
  {
   "cell_type": "code",
   "execution_count": null,
   "id": "e8ffbd04-0de2-4317-b78e-abef0a1953cf",
   "metadata": {},
   "outputs": [],
   "source": []
  }
 ],
 "metadata": {
  "kernelspec": {
   "display_name": "Python 3 (ipykernel)",
   "language": "python",
   "name": "python3"
  },
  "language_info": {
   "codemirror_mode": {
    "name": "ipython",
    "version": 3
   },
   "file_extension": ".py",
   "mimetype": "text/x-python",
   "name": "python",
   "nbconvert_exporter": "python",
   "pygments_lexer": "ipython3",
   "version": "3.9.7"
  }
 },
 "nbformat": 4,
 "nbformat_minor": 5
}
